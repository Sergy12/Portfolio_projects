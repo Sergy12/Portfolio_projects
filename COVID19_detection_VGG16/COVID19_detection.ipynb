{
  "cells": [
    {
      "cell_type": "markdown",
      "metadata": {
        "id": "_l5RwuZ-uSGQ"
      },
      "source": [
        "# Importing the necessary libraries"
      ]
    },
    {
      "cell_type": "code",
      "execution_count": null,
      "metadata": {
        "id": "hJgF26wFkvRv"
      },
      "outputs": [],
      "source": [
        "# Standard Libraries\n",
        "import os\n",
        "import shutil\n",
        "from concurrent.futures import ProcessPoolExecutor, ThreadPoolExecutor\n",
        "from glob import glob\n",
        "\n",
        "# Third-Party Libraries\n",
        "import cv2\n",
        "import matplotlib.pyplot as plt\n",
        "import numpy as np\n",
        "from numba import cuda, float32\n",
        "from PIL import Image\n",
        "import tensorflow as tf\n",
        "from sklearn.metrics import (\n",
        "    accuracy_score, classification_report, confusion_matrix, f1_score,\n",
        "    precision_score, recall_score, roc_auc_score\n",
        ")\n",
        "from sklearn.model_selection import train_test_split\n",
        "from tensorflow.keras.applications import VGG16\n",
        "from tensorflow.keras.layers import Dense, Flatten\n",
        "from tensorflow.keras.models import Model\n",
        "from tensorflow.keras.optimizers import Adam\n",
        "from tensorflow.keras.preprocessing.image import ImageDataGenerator\n"
      ]
    },
    {
      "cell_type": "markdown",
      "metadata": {
        "id": "9tOhGRg3yqhY",
        "jp-MarkdownHeadingCollapsed": true
      },
      "source": [
        "# GPU information\n"
      ]
    },
    {
      "cell_type": "code",
      "execution_count": null,
      "metadata": {
        "colab": {
          "base_uri": "https://localhost:8080/"
        },
        "id": "QdusBdFPWSdL",
        "outputId": "b45fb3a8-b25b-4674-bfc7-36d857992706"
      },
      "outputs": [
        {
          "name": "stdout",
          "output_type": "stream",
          "text": [
            "GPU Available: [PhysicalDevice(name='/physical_device:GPU:0', device_type='GPU')]\n"
          ]
        }
      ],
      "source": [
        "print(\"GPU Available:\", tf.config.list_physical_devices('GPU'))"
      ]
    },
    {
      "cell_type": "code",
      "execution_count": null,
      "metadata": {
        "colab": {
          "base_uri": "https://localhost:8080/"
        },
        "id": "d5j6EyLuWUvP",
        "outputId": "17adcf65-1007-47f5-fbed-719c335b1a45"
      },
      "outputs": [
        {
          "name": "stdout",
          "output_type": "stream",
          "text": [
            "True\n"
          ]
        }
      ],
      "source": [
        "print(cuda.is_available())  # Should print True"
      ]
    },
    {
      "cell_type": "code",
      "execution_count": null,
      "metadata": {
        "colab": {
          "base_uri": "https://localhost:8080/"
        },
        "id": "hr-vNQWJWZxB",
        "outputId": "efbcb31e-334e-4273-b0d8-77384363e656"
      },
      "outputs": [
        {
          "name": "stdout",
          "output_type": "stream",
          "text": [
            "Found 1 CUDA devices\n",
            "id 0             b'Tesla T4'                              [SUPPORTED]\n",
            "                      Compute Capability: 7.5\n",
            "                           PCI Device ID: 4\n",
            "                              PCI Bus ID: 0\n",
            "                                    UUID: GPU-647d90e4-6dfb-0faf-b952-1671a2886e0f\n",
            "                                Watchdog: Disabled\n",
            "             FP32/FP64 Performance Ratio: 32\n",
            "Summary:\n",
            "\t1/1 devices are supported\n"
          ]
        },
        {
          "data": {
            "text/plain": [
              "True"
            ]
          },
          "execution_count": 7,
          "metadata": {},
          "output_type": "execute_result"
        }
      ],
      "source": [
        "cuda.detect()  # Detects GPU and initializes CUDA context"
      ]
    },
    {
      "cell_type": "markdown",
      "metadata": {
        "id": "WFhVYrdBNUvC",
        "jp-MarkdownHeadingCollapsed": true
      },
      "source": [
        "# Gamma correlation"
      ]
    },
    {
      "cell_type": "code",
      "execution_count": null,
      "metadata": {
        "id": "raXRROaspvR6"
      },
      "outputs": [],
      "source": [
        "def gamma_correction(image_path, gamma=1.0):\n",
        "    \"\"\"\n",
        "    Apply gamma correction to a single image.\n",
        "\n",
        "    Args:\n",
        "        image_path (str): Path to the input image.\n",
        "        gamma (float): Gamma correction factor.\n",
        "\n",
        "    Returns:\n",
        "        np.ndarray: Gamma-corrected image.\n",
        "    \"\"\"\n",
        "    img = Image.open(image_path).convert('L')\n",
        "    img_array = np.array(img, dtype=np.float32)\n",
        "\n",
        "    corrected_img = ((img_array / 255.0) ** gamma) * 255.0\n",
        "    return corrected_img.astype(np.uint8)\n",
        "\n",
        "def process_and_save_image(image_path, output_dir, gamma):\n",
        "    \"\"\"\n",
        "    Process an image and save the gamma-corrected result.\n",
        "\n",
        "    Args:\n",
        "        image_path (str): Path to the input image.\n",
        "        output_dir (str): Directory to save the processed image.\n",
        "        gamma (float): Gamma correction factor.\n",
        "    \"\"\"\n",
        "    corrected_img = gamma_correction(image_path, gamma)\n",
        "    output_path = os.path.join(output_dir, os.path.basename(image_path))\n",
        "    Image.fromarray(corrected_img).save(output_path)\n",
        "\n",
        "def parallel_process_images(image_dir, output_dir, gamma, max_workers=8):\n",
        "    \"\"\"\n",
        "    Apply gamma correction to a dataset of images in parallel.\n",
        "\n",
        "    Args:\n",
        "        image_dir (str): Directory containing input images.\n",
        "        output_dir (str): Directory to save processed images.\n",
        "        gamma (float): Gamma correction factor.\n",
        "        max_workers (int): Number of parallel workers.\n",
        "    \"\"\"\n",
        "    os.makedirs(output_dir, exist_ok=True)\n",
        "    image_paths = [os.path.join(image_dir, img) for img in os.listdir(image_dir) if img.endswith(('.png'))]\n",
        "\n",
        "    with ProcessPoolExecutor(max_workers=max_workers) as executor:\n",
        "        for image_path in image_paths:\n",
        "            executor.submit(process_and_save_image, image_path, output_dir, gamma)\n",
        "\n",
        "\n"
      ]
    },
    {
      "cell_type": "code",
      "execution_count": null,
      "metadata": {
        "id": "4gaxXJsD6mh7"
      },
      "outputs": [],
      "source": [
        "input_folder = 'COVID-19_Radiography_Dataset/COVID/segmentation/'\n",
        "output_folder = 'COVID-19_Radiography_Dataset/gamma_correl/COVID'\n",
        "\n",
        "# Ensure output folder exists\n",
        "os.makedirs(output_folder, exist_ok=True)\n",
        "gamma = 0.9  # Brighten images\n",
        "\n",
        "parallel_process_images(input_folder, output_folder, gamma)"
      ]
    },
    {
      "cell_type": "code",
      "execution_count": null,
      "metadata": {
        "id": "YCWg5Mxu_oSB"
      },
      "outputs": [],
      "source": [
        "# Example usage\n",
        "#input_folder = 'Covid19-dataset/train/Covid/'\n",
        "input_folder = 'COVID-19_Radiography_Dataset/Normal/segmentation/'\n",
        "output_folder = 'COVID-19_Radiography_Dataset/gamma_correl/Normal'\n",
        "\n",
        "# Ensure output folder exists\n",
        "os.makedirs(output_folder, exist_ok=True)\n",
        "gamma = 0.9  # Brighten images\n",
        "\n",
        "parallel_process_images(input_folder, output_folder, gamma)"
      ]
    },
    {
      "cell_type": "markdown",
      "metadata": {
        "id": "Nn8icPCoajNJ",
        "jp-MarkdownHeadingCollapsed": true
      },
      "source": [
        "# CLAHE"
      ]
    },
    {
      "cell_type": "code",
      "execution_count": null,
      "metadata": {
        "id": "B4yS-3k3uMZW"
      },
      "outputs": [],
      "source": [
        "@cuda.jit\n",
        "def clahe_kernel(img, result, tile_size, clip_limit):\n",
        "    x, y = cuda.grid(2)\n",
        "    height, width = img.shape\n",
        "\n",
        "    # Ensure that thread coordinates are within image bounds\n",
        "    if x >= height or y >= width:\n",
        "        return\n",
        "\n",
        "    # Calculate the tile position\n",
        "    tile_x = x // tile_size[0]\n",
        "    tile_y = y // tile_size[1]\n",
        "\n",
        "    # Calculate histogram and clip based on the limit\n",
        "    # This simplified kernel can be modified to create cumulative histograms for actual CLAHE.\n",
        "\n",
        "    # Clip values based on clip limit\n",
        "    local_val = img[x, y] * (clip_limit / 255.0)  # Example processing\n",
        "\n",
        "    # Store in result\n",
        "    result[x, y] = min(255, max(0, local_val))\n",
        "\n",
        "# Function to apply CLAHE to an image\n",
        "def clahe_gpu(img, tile_grid_size=(8, 8), clip_limit=2.0):\n",
        "    img_gray = cv2.cvtColor(img, cv2.COLOR_BGR2GRAY)  # Convert to grayscale\n",
        "    result = np.zeros_like(img_gray)\n",
        "\n",
        "    # Move data to device\n",
        "    d_img = cuda.to_device(img_gray)\n",
        "    d_result = cuda.to_device(result)\n",
        "\n",
        "    # Set up CUDA grid and block dimensions\n",
        "    threads_per_block = (16, 16)\n",
        "    blocks_per_grid_x = int(np.ceil(img_gray.shape[0] / threads_per_block[0]))\n",
        "    blocks_per_grid_y = int(np.ceil(img_gray.shape[1] / threads_per_block[1]))\n",
        "\n",
        "    # Launch kernel\n",
        "    clahe_kernel[(blocks_per_grid_x, blocks_per_grid_y), threads_per_block](d_img, d_result, tile_grid_size, clip_limit)\n",
        "\n",
        "    # Copy result back to host\n",
        "    result = d_result.copy_to_host()\n",
        "\n",
        "    return result\n"
      ]
    },
    {
      "cell_type": "code",
      "execution_count": null,
      "metadata": {
        "id": "tVc-pCfmzDbM"
      },
      "outputs": [],
      "source": [
        "# Function to read, process, and save an image\n",
        "def process_image(image_path, output_folder, tile_grid_size, clip_limit):\n",
        "    img = cv2.imread(image_path)\n",
        "\n",
        "    result_img = clahe_gpu(img, tile_grid_size, clip_limit)\n",
        "\n",
        "    output_path = os.path.join(output_folder, os.path.basename(image_path))\n",
        "    cv2.imwrite(output_path, result_img)\n",
        "    #print(f'Processed and saved {output_path}')\n",
        "\n",
        "# Main function to handle parallel processing\n",
        "def process_images_in_folder(input_folder, output_folder, tile_grid_size=(8, 8), clip_limit=40.0):\n",
        "    # Ensure output directory exists\n",
        "    os.makedirs(output_folder, exist_ok=True)\n",
        "\n",
        "    # Get all image file paths\n",
        "    image_files = glob(os.path.join(input_folder, '*.png'))\n",
        "\n",
        "    # Use ThreadPoolExecutor for I/O-bound tasks like reading and saving\n",
        "    with ThreadPoolExecutor(max_workers=8) as executor:\n",
        "        # Process images in parallel\n",
        "        futures = [executor.submit(process_image, img_path, output_folder, tile_grid_size, clip_limit)\n",
        "                   for img_path in image_files]\n",
        "\n",
        "        # Wait for all futures to complete\n",
        "        for future in futures:\n",
        "            future.result()  # This will raise exceptions if any occur in threads\n",
        "\n"
      ]
    },
    {
      "cell_type": "code",
      "execution_count": null,
      "metadata": {
        "id": "U7_lricfTnL4"
      },
      "outputs": [],
      "source": [
        "input_folder = 'COVID-19_Radiography_Dataset/COVID/segmentation/'\n",
        "output_folder = 'COVID-19_Radiography_Dataset/clahe/COVID'\n",
        "\n",
        "# Ensure output folder exists\n",
        "os.makedirs(output_folder, exist_ok=True)\n",
        "\n",
        "process_images_in_folder(input_folder, output_folder, tile_grid_size=(8, 8), clip_limit=300.0)"
      ]
    },
    {
      "cell_type": "code",
      "execution_count": null,
      "metadata": {
        "id": "utrEFiOjG4vS"
      },
      "outputs": [],
      "source": [
        "input_folder = 'COVID-19_Radiography_Dataset/Normal/segmentation/'\n",
        "output_folder = 'COVID-19_Radiography_Dataset/clahe/Normal'\n",
        "\n",
        "# Ensure output folder exists\n",
        "os.makedirs(output_folder, exist_ok=True)\n",
        "\n",
        "process_images_in_folder(input_folder, output_folder, tile_grid_size=(8, 8), clip_limit=300.0)"
      ]
    },
    {
      "cell_type": "markdown",
      "metadata": {
        "id": "HKY_GBI5al9a",
        "jp-MarkdownHeadingCollapsed": true
      },
      "source": [
        "# Kalman Filter\n"
      ]
    },
    {
      "cell_type": "code",
      "execution_count": null,
      "metadata": {
        "id": "bqSp2jIQR0dq"
      },
      "outputs": [],
      "source": [
        "@cuda.jit\n",
        "def kalman_filter_gpu(img, filtered_img):\n",
        "    row, col = cuda.grid(2)\n",
        "\n",
        "    if row < img.shape[0] and col < img.shape[1]:\n",
        "        # Handle boundary conditions for neighbors\n",
        "        up = img[max(0, row - 1), col]  # Pixel above\n",
        "        left = img[row, max(0, col - 1)]  # Pixel to the left\n",
        "\n",
        "        # Apply the Kalman-like filter\n",
        "        filtered_value = img[row, col] * 0.9 + (up * 0.05 + left * 0.05)\n",
        "\n",
        "        # Ensure the value stays within [0, 1]\n",
        "        filtered_img[row, col] = min(max(filtered_value, 0.0), 1.0)\n",
        "\n",
        "\n",
        "def apply_kalman_filter(img):\n",
        "    # Ensure the input is a 2D grayscale image of type float32 and normalized\n",
        "    if len(img.shape) == 3 and img.shape[2] == 3:\n",
        "        img = cv2.cvtColor(img, cv2.COLOR_BGR2GRAY)  # Convert to grayscale if RGB\n",
        "    img = img.astype(np.float32) / 255.0  # Normalize to [0, 1]\n",
        "\n",
        "    # Create output array\n",
        "    filtered_img = np.zeros_like(img, dtype=np.float32)\n",
        "\n",
        "    # Transfer input and output arrays to GPU\n",
        "    d_img = cuda.to_device(img)\n",
        "    d_filtered_img = cuda.to_device(filtered_img)\n",
        "\n",
        "    # Define block and grid sizes\n",
        "    threads_per_block = (16, 16)\n",
        "    blocks_per_grid_x = (img.shape[0] + threads_per_block[0] - 1) // threads_per_block[0]\n",
        "    blocks_per_grid_y = (img.shape[1] + threads_per_block[1] - 1) // threads_per_block[1]\n",
        "\n",
        "    # Launch the kernel\n",
        "    kalman_filter_gpu[(blocks_per_grid_x, blocks_per_grid_y), threads_per_block](d_img, d_filtered_img)\n",
        "\n",
        "    # Copy the filtered image back to the host\n",
        "    d_filtered_img.copy_to_host(filtered_img)\n",
        "\n",
        "    # Rescale the output to [0, 255] and convert to uint8\n",
        "    return (filtered_img * 255.0).astype(np.uint8)\n"
      ]
    },
    {
      "cell_type": "code",
      "execution_count": null,
      "metadata": {
        "id": "tgOcUgORPJNa"
      },
      "outputs": [],
      "source": [
        "# Function to read, process, and save an image\n",
        "def process_image(image_path, output_folder):\n",
        "    img = cv2.imread(image_path)\n",
        "\n",
        "    result_img = apply_kalman_filter(img)\n",
        "\n",
        "    output_path = os.path.join(output_folder, os.path.basename(image_path))\n",
        "    cv2.imwrite(output_path, result_img)\n",
        "    #print(f'Processed and saved {output_path}')\n",
        "\n",
        "# Main function to handle parallel processing\n",
        "def process_images_in_folder(input_folder, output_folder):\n",
        "    # Ensure output directory exists\n",
        "    os.makedirs(output_folder, exist_ok=True)\n",
        "\n",
        "    # Get all image file paths\n",
        "    image_files = glob(os.path.join(input_folder, '*.png'))\n",
        "\n",
        "    # Use ThreadPoolExecutor for I/O-bound tasks like reading and saving\n",
        "    with ThreadPoolExecutor(max_workers=8) as executor:\n",
        "        # Process images in parallel\n",
        "        futures = [executor.submit(process_image, img_path, output_folder)\n",
        "                   for img_path in image_files]\n",
        "\n",
        "        # Wait for all futures to complete\n",
        "        for future in futures:\n",
        "            future.result()  # This will raise exceptions if any occur in threads\n",
        "\n"
      ]
    },
    {
      "cell_type": "code",
      "execution_count": null,
      "metadata": {
        "id": "OjYmhvxWTkHd"
      },
      "outputs": [],
      "source": [
        "# Kalman preprocessing\n",
        "input_folder = 'COVID-19_Radiography_Dataset/COVID/segmentation/'\n",
        "output_folder = 'COVID-19_Radiography_Dataset/kalman/COVID'\n",
        "\n",
        "# Ensure output folder exists\n",
        "os.makedirs(output_folder, exist_ok=True)\n",
        "\n",
        "process_images_in_folder(input_folder, output_folder)"
      ]
    },
    {
      "cell_type": "code",
      "execution_count": null,
      "metadata": {
        "id": "XAq4NwZlUHVG"
      },
      "outputs": [],
      "source": [
        "# Kalman preprocessing\n",
        "input_folder = 'COVID-19_Radiography_Dataset/Normal/segmentation/'\n",
        "output_folder = 'COVID-19_Radiography_Dataset/kalman/Normal'\n",
        "\n",
        "# Ensure output folder exists\n",
        "os.makedirs(output_folder, exist_ok=True)\n",
        "\n",
        "process_images_in_folder(input_folder, output_folder)"
      ]
    },
    {
      "cell_type": "markdown",
      "metadata": {
        "id": "A5qTgFZPcIlH"
      },
      "source": [
        "### Dataset splitting"
      ]
    },
    {
      "cell_type": "markdown",
      "source": [
        "Split datasets of each preprocessing method into train, validation and test folders."
      ],
      "metadata": {
        "id": "SfbAD1F8vSrl"
      }
    },
    {
      "cell_type": "code",
      "execution_count": null,
      "metadata": {
        "id": "RE88wmPPcODr"
      },
      "outputs": [],
      "source": [
        "# Paths\n",
        "original_dataset_dir = 'gamma_correl'\n",
        "output_dir = 'gamma_correl/split_dataset'\n",
        "\n",
        "# Create output directories\n",
        "for split in ['train', 'validation', 'test']:\n",
        "    for cls in ['COVID', 'Normal']:\n",
        "        os.makedirs(os.path.join(output_dir, split, cls), exist_ok=True)\n",
        "\n",
        "# Split function\n",
        "def split_data(original_dir, output_dir, val_ratio=0.2, test_ratio=0.1):\n",
        "    for cls in ['COVID', 'Normal']:\n",
        "        class_dir = os.path.join(original_dir, cls)\n",
        "        images = os.listdir(class_dir)\n",
        "\n",
        "        # Split into train, validation, and test\n",
        "        train_images, temp_images = train_test_split(images, test_size=val_ratio + test_ratio, random_state=42)\n",
        "        val_images, test_images = train_test_split(temp_images, test_size=test_ratio / (val_ratio + test_ratio), random_state=42)\n",
        "\n",
        "        # Copy images to new directories\n",
        "        for split, image_list in zip(['train', 'validation', 'test'], [train_images, val_images, test_images]):\n",
        "            for image in image_list:\n",
        "                src = os.path.join(class_dir, image)\n",
        "                dst = os.path.join(output_dir, split, cls, image)\n",
        "                shutil.copy(src, dst)\n",
        "\n",
        "# Apply split\n",
        "split_data(original_dataset_dir, output_dir)\n"
      ]
    },
    {
      "cell_type": "code",
      "execution_count": null,
      "metadata": {
        "id": "pAKulQ22hLnl"
      },
      "outputs": [],
      "source": [
        "# Directories for input images, masks, and output results\n",
        "images_dir = 'images'\n",
        "masks_dir = 'masks'\n",
        "output_dir = 'segmentation'\n",
        "mask_shape = (299, 299)\n",
        "\n",
        "\n",
        "# Get the list of image and mask filenames\n",
        "image_files = sorted([f for f in os.listdir(images_dir)])\n",
        "mask_files = sorted([f for f in os.listdir(masks_dir)])\n",
        "\n",
        "# Process each image and its corresponding mask\n",
        "for i in range(len(image_files)):\n",
        "    image_path = 'images/'+image_files[i]\n",
        "    mask_path = 'masks/'+mask_files[i]\n",
        "\n",
        "    # Load and convert the image to grayscale\n",
        "    image = cv2.imread(image_path, cv2.IMREAD_GRAYSCALE)\n",
        "\n",
        "    # Load and convert the mask to grayscale\n",
        "    mask = cv2.imread(mask_path, cv2.IMREAD_GRAYSCALE)\n",
        "\n",
        "    # Resize the mask to the fixed shape\n",
        "    mask = cv2.resize(mask, (299, 299))\n",
        "\n",
        "    # Ensure the mask is binary (values 0 or 1)\n",
        "    binary_mask = (mask > 0).astype(np.uint8)\n",
        "\n",
        "    # Calculate the Area of Interest (AOI)\n",
        "    aoi = image * binary_mask\n",
        "\n",
        "    # Save the AOI result\n",
        "    output_path = os.path.join(output_dir, image_files[i])\n",
        "    cv2.imwrite(output_path, aoi)\n",
        "\n"
      ]
    },
    {
      "cell_type": "code",
      "execution_count": null,
      "metadata": {
        "id": "LzO2p-D5ulq1",
        "outputId": "1ad119c2-19f3-44b7-afe7-594bb9c0ec52"
      },
      "outputs": [
        {
          "name": "stdout",
          "output_type": "stream",
          "text": [
            "All images moved to: gamma_correl/split_dataset/validation/COVID/all_images\n"
          ]
        }
      ],
      "source": [
        "# Define the path to the folder containing images\n",
        "source_dir = 'gamma_correl/split_dataset/validation/COVID/'\n",
        "dummy_dir = os.path.join(source_dir, 'all_images')  # Path to the new dummy subdirectory\n",
        "\n",
        "# Create the dummy directory if it doesn't exist\n",
        "if not os.path.exists(dummy_dir):\n",
        "    os.makedirs(dummy_dir)\n",
        "\n",
        "# Move all image files into the dummy directory\n",
        "for filename in os.listdir(source_dir):\n",
        "    # Ensure it's an image file (you can extend the filter as needed)\n",
        "    if filename.endswith(('.png')):\n",
        "        # Define full file paths\n",
        "        src_path = os.path.join(source_dir, filename)\n",
        "        dest_path = os.path.join(dummy_dir, filename)\n",
        "\n",
        "        # Move the file\n",
        "        shutil.move(src_path, dest_path)\n",
        "\n",
        "print(f\"All images moved to: {dummy_dir}\")\n"
      ]
    },
    {
      "cell_type": "markdown",
      "source": [
        "### Data augmentation"
      ],
      "metadata": {
        "id": "qqUctuply-cH"
      }
    },
    {
      "cell_type": "markdown",
      "source": [
        "Apply data augmentation to train and validation dataset of each preprocessing method."
      ],
      "metadata": {
        "id": "Nu2FHA_uvMaW"
      }
    },
    {
      "cell_type": "code",
      "execution_count": null,
      "metadata": {
        "id": "FKpN7yPZulq1",
        "outputId": "1afae374-eda0-4121-cb13-78889124cc4a"
      },
      "outputs": [
        {
          "name": "stdout",
          "output_type": "stream",
          "text": [
            "Found 723 images belonging to 1 classes.\n"
          ]
        }
      ],
      "source": [
        "# Path to the folder\n",
        "folder_path = \"gamma_correl/split_dataset/validation/COVID/\"\n",
        "\n",
        "# Initialize the ImageDataGenerator with augmentations\n",
        "datagen = ImageDataGenerator(rotation_range=20)\n",
        "\n",
        "# Create a generator for loading images\n",
        "generator = datagen.flow_from_directory(\n",
        "    folder_path,\n",
        "    target_size=(299, 299),  # Resize images to 150x150\n",
        "    batch_size=32,\n",
        "    class_mode=None,\n",
        "    shuffle=True,\n",
        "    save_prefix='aug',\n",
        "    save_to_dir=\"gamma_correl/split_dataset/validation/COVID/all_images\",  # Save augmented images\n",
        "    save_format=\"png\"\n",
        ")\n"
      ]
    },
    {
      "cell_type": "code",
      "execution_count": null,
      "metadata": {
        "id": "J8AyQPk2ulq2",
        "outputId": "d86d812e-6921-4ebe-fc4c-945e9377d620"
      },
      "outputs": [
        {
          "name": "stdout",
          "output_type": "stream",
          "text": [
            "Number of images in the folder: 2022\n"
          ]
        }
      ],
      "source": [
        "# Define the folder path\n",
        "folder_path = \"gamma_correl/split_dataset/validation/COVID/all_images\"\n",
        "\n",
        "# List all files in the folder and filter only image files (e.g., .jpg, .png)\n",
        "image_files = [f for f in os.listdir(folder_path) if f.endswith((\".png\"))]\n",
        "\n",
        "# Count the number of images\n",
        "num_images = len(image_files)\n",
        "\n",
        "print(f\"Number of images in the folder: {num_images}\")\n"
      ]
    },
    {
      "cell_type": "code",
      "execution_count": null,
      "metadata": {
        "id": "w88XbWsUulq2"
      },
      "outputs": [],
      "source": [
        "# Delete images\n",
        "'''\n",
        "folder_path = 'clahe/split_dataset/validation/COVID/all_images'\n",
        "prefix = 'aug'\n",
        "\n",
        "for filename in os.listdir(folder_path):\n",
        "    if filename.startswith(prefix):\n",
        "        file_path = os.path.join(folder_path, filename)\n",
        "        os.remove(file_path)\n",
        "'''"
      ]
    },
    {
      "cell_type": "code",
      "execution_count": null,
      "metadata": {
        "id": "JqX1c94zulq3"
      },
      "outputs": [],
      "source": [
        "iterations_train = 4460//32\n",
        "iterations_validation = 1300//32"
      ]
    },
    {
      "cell_type": "code",
      "execution_count": null,
      "metadata": {
        "id": "M3tyvHqFulq3"
      },
      "outputs": [],
      "source": [
        "# Apply augmentation generator\n",
        "for i, batch in enumerate(generator):\n",
        "    if i >= (iterations_validation):\n",
        "        break"
      ]
    },
    {
      "cell_type": "markdown",
      "source": [
        "Load final train, validation and test data for the models"
      ],
      "metadata": {
        "id": "Io68hNoQzlaG"
      }
    },
    {
      "cell_type": "code",
      "execution_count": null,
      "metadata": {
        "colab": {
          "base_uri": "https://localhost:8080/"
        },
        "id": "OfDm6DvHo3e7",
        "outputId": "3c2bf234-44e3-465d-b006-20746bd61750"
      },
      "outputs": [
        {
          "name": "stderr",
          "output_type": "stream",
          "text": [
            "2025-01-17 11:37:17.380601: E external/local_xla/xla/stream_executor/cuda/cuda_fft.cc:477] Unable to register cuFFT factory: Attempting to register factory for plugin cuFFT when one has already been registered\n",
            "WARNING: All log messages before absl::InitializeLog() is called are written to STDERR\n",
            "E0000 00:00:1737113837.432286    1835 cuda_dnn.cc:8310] Unable to register cuDNN factory: Attempting to register factory for plugin cuDNN when one has already been registered\n",
            "E0000 00:00:1737113837.446133    1835 cuda_blas.cc:1418] Unable to register cuBLAS factory: Attempting to register factory for plugin cuBLAS when one has already been registered\n",
            "2025-01-17 11:37:17.568252: I tensorflow/core/platform/cpu_feature_guard.cc:210] This TensorFlow binary is optimized to use available CPU instructions in performance-critical operations.\n",
            "To enable the following instructions: AVX2 FMA, in other operations, rebuild TensorFlow with the appropriate compiler flags.\n"
          ]
        },
        {
          "name": "stdout",
          "output_type": "stream",
          "text": [
            "Found 14119 images belonging to 2 classes.\n",
            "Found 4060 images belonging to 2 classes.\n",
            "Found 1382 images belonging to 2 classes.\n"
          ]
        }
      ],
      "source": [
        "# Data generators\n",
        "train_datagen = ImageDataGenerator(rescale=1./255)\n",
        "val_test_datagen = ImageDataGenerator(rescale=1./255)\n",
        "\n",
        "# Load data\n",
        "train_data_clahe = train_datagen.flow_from_directory(\n",
        "    'clahe/split_dataset/train',\n",
        "    target_size=(299, 299),\n",
        "    batch_size=32,\n",
        "    class_mode='binary'\n",
        ")\n",
        "\n",
        "validation_data_clahe = val_test_datagen.flow_from_directory(\n",
        "    'clahe/split_dataset/validation',\n",
        "    target_size=(299, 299),\n",
        "    batch_size=32,\n",
        "    class_mode='binary'\n",
        ")\n",
        "\n",
        "test_data_clahe = val_test_datagen.flow_from_directory(\n",
        "    'clahe/split_dataset/test',\n",
        "    target_size=(299, 299),\n",
        "    batch_size=32,\n",
        "    class_mode='binary',\n",
        "    shuffle=False\n",
        ")\n"
      ]
    },
    {
      "cell_type": "code",
      "execution_count": null,
      "metadata": {
        "id": "DxJWXbgOulq4",
        "outputId": "5c010557-24db-474d-ffb9-33f807594f4b"
      },
      "outputs": [
        {
          "name": "stdout",
          "output_type": "stream",
          "text": [
            "Found 14116 images belonging to 2 classes.\n",
            "Found 4060 images belonging to 2 classes.\n",
            "Found 1382 images belonging to 2 classes.\n"
          ]
        }
      ],
      "source": [
        "# Load data\n",
        "train_data_kalman = train_datagen.flow_from_directory(\n",
        "    'kalman/split_dataset/train',\n",
        "    target_size=(299, 299),\n",
        "    batch_size=32,\n",
        "    class_mode='binary'\n",
        ")\n",
        "\n",
        "validation_data_kalman = val_test_datagen.flow_from_directory(\n",
        "    'kalman/split_dataset/validation',\n",
        "    target_size=(299, 299),\n",
        "    batch_size=32,\n",
        "    class_mode='binary'\n",
        ")\n",
        "\n",
        "test_data_kalman = val_test_datagen.flow_from_directory(\n",
        "    'kalman/split_dataset/test',\n",
        "    target_size=(299, 299),\n",
        "    batch_size=32,\n",
        "    class_mode='binary',\n",
        "    shuffle=False\n",
        ")"
      ]
    },
    {
      "cell_type": "code",
      "execution_count": null,
      "metadata": {
        "id": "lGD5PN8zulq5",
        "outputId": "9bc1e0f8-9a88-45df-ef39-f83975968a37"
      },
      "outputs": [
        {
          "name": "stdout",
          "output_type": "stream",
          "text": [
            "Found 14116 images belonging to 2 classes.\n",
            "Found 4060 images belonging to 2 classes.\n",
            "Found 1382 images belonging to 2 classes.\n"
          ]
        }
      ],
      "source": [
        "# Load data\n",
        "train_data_gamma = train_datagen.flow_from_directory(\n",
        "    'gamma_correl/split_dataset/train',\n",
        "    target_size=(299, 299),\n",
        "    batch_size=32,\n",
        "    class_mode='binary'\n",
        ")\n",
        "\n",
        "validation_data_gamma = val_test_datagen.flow_from_directory(\n",
        "    'gamma_correl/split_dataset/validation',\n",
        "    target_size=(299, 299),\n",
        "    batch_size=32,\n",
        "    class_mode='binary'\n",
        ")\n",
        "\n",
        "test_data_gamma = val_test_datagen.flow_from_directory(\n",
        "    'gamma_correl/split_dataset/test',\n",
        "    target_size=(299, 299),\n",
        "    batch_size=32,\n",
        "    class_mode='binary',\n",
        "    shuffle=False\n",
        ")"
      ]
    },
    {
      "cell_type": "markdown",
      "source": [
        "# VGG16"
      ],
      "metadata": {
        "id": "cfCJ1xvcwPZd"
      }
    },
    {
      "cell_type": "markdown",
      "metadata": {
        "id": "ul6rLu-Sb_4O"
      },
      "source": [
        "## Model"
      ]
    },
    {
      "cell_type": "code",
      "execution_count": null,
      "metadata": {
        "id": "4TP3ZNeBulq6"
      },
      "outputs": [],
      "source": [
        "# Adjust gpu memory growth\n",
        "gpus = tf.config.list_physical_devices('GPU')\n",
        "for gpu in gpus:\n",
        "    tf.config.experimental.set_memory_growth(gpu, True)\n"
      ]
    },
    {
      "cell_type": "code",
      "execution_count": null,
      "metadata": {
        "colab": {
          "base_uri": "https://localhost:8080/"
        },
        "id": "sAq6QP5SzD_J",
        "outputId": "0d3d64b0-3929-4f73-b886-205398fdae65",
        "scrolled": true
      },
      "outputs": [
        {
          "name": "stderr",
          "output_type": "stream",
          "text": [
            "I0000 00:00:1737113861.274538    1835 gpu_device.cc:2022] Created device /job:localhost/replica:0/task:0/device:GPU:0 with 43629 MB memory:  -> device: 0, name: NVIDIA L40S, pci bus id: 0000:34:00.0, compute capability: 8.9\n"
          ]
        }
      ],
      "source": [
        "# Define VGG16 model\n",
        "vgg_base = VGG16(\n",
        "    include_top=False,\n",
        "    weights=\"imagenet\",\n",
        "    input_shape=(299,299,3),\n",
        ")\n",
        "\n",
        "# Unfreezing last 4 layers for training\n",
        "vgg_base.trainable = True\n",
        "\n",
        "for layer in vgg_base.layers[:-4]:\n",
        "    layer.trainable = False"
      ]
    },
    {
      "cell_type": "code",
      "execution_count": null,
      "metadata": {
        "id": "Je0scV4Rulq_",
        "outputId": "fa7fed1b-fe55-44d9-ad64-8d052df79043"
      },
      "outputs": [
        {
          "name": "stdout",
          "output_type": "stream",
          "text": [
            "Available GPUs: [PhysicalDevice(name='/physical_device:GPU:0', device_type='GPU')]\n"
          ]
        }
      ],
      "source": [
        "print(\"Available GPUs:\", tf.config.list_physical_devices('GPU'))"
      ]
    },
    {
      "cell_type": "code",
      "execution_count": null,
      "metadata": {
        "id": "M7k89p3pWyzt",
        "scrolled": true
      },
      "outputs": [],
      "source": [
        "# Model definition\n",
        "def create_model():\n",
        "    x = Flatten()(vgg_base.output)\n",
        "    x = Dense(256, activation='relu')(x)\n",
        "    output = Dense(1, activation='sigmoid')(x)\n",
        "\n",
        "    model = Model(inputs=vgg_base.input, outputs=output)\n",
        "    model.compile(optimizer=Adam(learning_rate=0.001),\n",
        "                  loss='binary_crossentropy',\n",
        "                  metrics=['accuracy'])\n",
        "    return model\n",
        "\n",
        "# Define callbacks functions\n",
        "callbacks = [tf.keras.callbacks.EarlyStopping(patience=4, restore_best_weights=True)]\n",
        "\n",
        "# Define training function\n",
        "def train_model(model, train_data, epochs, validation_data):\n",
        "    model.fit(train_data, epochs=epochs, validation_data=validation_data, callbacks = callbacks)\n",
        "\n",
        "# Create model\n",
        "model_clahe = create_model()\n",
        "model_kalman = create_model()\n",
        "model_gamma = create_model()\n"
      ]
    },
    {
      "cell_type": "code",
      "execution_count": null,
      "metadata": {
        "id": "YHzb4Wvhulq_",
        "outputId": "06ba5fa5-45d8-4335-9ba1-0bdbf55e23fb"
      },
      "outputs": [
        {
          "name": "stdout",
          "output_type": "stream",
          "text": [
            "Epoch 1/40\n",
            "Epoch 1/40\n",
            "Epoch 1/40\n",
            "\u001b[1m442/442\u001b[0m \u001b[32m━━━━━━━━━━━━━━━━━━━━\u001b[0m\u001b[37m\u001b[0m \u001b[1m81s\u001b[0m 174ms/step - accuracy: 0.8083 - loss: 0.6857 - val_accuracy: 0.9438 - val_loss: 0.1383\n",
            "Epoch 2/40\n",
            "\u001b[1m442/442\u001b[0m \u001b[32m━━━━━━━━━━━━━━━━━━━━\u001b[0m\u001b[37m\u001b[0m \u001b[1m81s\u001b[0m 175ms/step - accuracy: 0.8296 - loss: 0.4824 - val_accuracy: 0.9362 - val_loss: 0.1539\n",
            "Epoch 2/40\n",
            "\u001b[1m442/442\u001b[0m \u001b[32m━━━━━━━━━━━━━━━━━━━━\u001b[0m\u001b[37m\u001b[0m \u001b[1m86s\u001b[0m 184ms/step - accuracy: 0.8352 - loss: 0.4558 - val_accuracy: 0.9453 - val_loss: 0.1386\n",
            "Epoch 2/40\n",
            "\u001b[1m442/442\u001b[0m \u001b[32m━━━━━━━━━━━━━━━━━━━━\u001b[0m\u001b[37m\u001b[0m \u001b[1m71s\u001b[0m 160ms/step - accuracy: 0.9325 - loss: 0.1635 - val_accuracy: 0.9493 - val_loss: 0.1471\n",
            "Epoch 3/40\n",
            "\u001b[1m442/442\u001b[0m \u001b[32m━━━━━━━━━━━━━━━━━━━━\u001b[0m\u001b[37m\u001b[0m \u001b[1m77s\u001b[0m 175ms/step - accuracy: 0.9342 - loss: 0.1561 - val_accuracy: 0.9475 - val_loss: 0.1375\n",
            "Epoch 3/40\n",
            "\u001b[1m442/442\u001b[0m \u001b[32m━━━━━━━━━━━━━━━━━━━━\u001b[0m\u001b[37m\u001b[0m \u001b[1m77s\u001b[0m 174ms/step - accuracy: 0.9425 - loss: 0.1417 - val_accuracy: 0.9490 - val_loss: 0.1338\n",
            "Epoch 3/40\n",
            "\u001b[1m442/442\u001b[0m \u001b[32m━━━━━━━━━━━━━━━━━━━━\u001b[0m\u001b[37m\u001b[0m \u001b[1m72s\u001b[0m 162ms/step - accuracy: 0.9524 - loss: 0.1223 - val_accuracy: 0.9579 - val_loss: 0.1112\n",
            "Epoch 4/40\n",
            "\u001b[1m442/442\u001b[0m \u001b[32m━━━━━━━━━━━━━━━━━━━━\u001b[0m\u001b[37m\u001b[0m \u001b[1m74s\u001b[0m 168ms/step - accuracy: 0.9560 - loss: 0.1101 - val_accuracy: 0.9510 - val_loss: 0.1219\n",
            "Epoch 4/40\n",
            "\u001b[1m442/442\u001b[0m \u001b[32m━━━━━━━━━━━━━━━━━━━━\u001b[0m\u001b[37m\u001b[0m \u001b[1m75s\u001b[0m 170ms/step - accuracy: 0.9527 - loss: 0.1246 - val_accuracy: 0.9579 - val_loss: 0.1123\n",
            "Epoch 4/40\n",
            "\u001b[1m442/442\u001b[0m \u001b[32m━━━━━━━━━━━━━━━━━━━━\u001b[0m\u001b[37m\u001b[0m \u001b[1m77s\u001b[0m 173ms/step - accuracy: 0.9665 - loss: 0.0823 - val_accuracy: 0.9603 - val_loss: 0.1050\n",
            "Epoch 5/40\n",
            "\u001b[1m442/442\u001b[0m \u001b[32m━━━━━━━━━━━━━━━━━━━━\u001b[0m\u001b[37m\u001b[0m \u001b[1m75s\u001b[0m 170ms/step - accuracy: 0.9690 - loss: 0.0783 - val_accuracy: 0.9586 - val_loss: 0.1107\n",
            "Epoch 5/40\n",
            "\u001b[1m442/442\u001b[0m \u001b[32m━━━━━━━━━━━━━━━━━━━━\u001b[0m\u001b[37m\u001b[0m \u001b[1m76s\u001b[0m 172ms/step - accuracy: 0.9742 - loss: 0.0671 - val_accuracy: 0.9562 - val_loss: 0.1220\n",
            "Epoch 5/40\n",
            "\u001b[1m442/442\u001b[0m \u001b[32m━━━━━━━━━━━━━━━━━━━━\u001b[0m\u001b[37m\u001b[0m \u001b[1m78s\u001b[0m 176ms/step - accuracy: 0.9697 - loss: 0.0808 - val_accuracy: 0.9579 - val_loss: 0.1143\n",
            "Epoch 6/40\n",
            "\u001b[1m442/442\u001b[0m \u001b[32m━━━━━━━━━━━━━━━━━━━━\u001b[0m\u001b[37m\u001b[0m \u001b[1m78s\u001b[0m 177ms/step - accuracy: 0.9694 - loss: 0.0862 - val_accuracy: 0.9611 - val_loss: 0.0990\n",
            "\u001b[1m 53/442\u001b[0m \u001b[32m━━\u001b[0m\u001b[37m━━━━━━━━━━━━━━━━━━\u001b[0m \u001b[1m56s\u001b[0m 145ms/step - accuracy: 0.9817 - loss: 0.0595Epoch 6/40\n",
            "\u001b[1m442/442\u001b[0m \u001b[32m━━━━━━━━━━━━━━━━━━━━\u001b[0m\u001b[37m\u001b[0m \u001b[1m77s\u001b[0m 175ms/step - accuracy: 0.9719 - loss: 0.0780 - val_accuracy: 0.9594 - val_loss: 0.2100\n",
            "\u001b[1m 30/442\u001b[0m \u001b[32m━\u001b[0m\u001b[37m━━━━━━━━━━━━━━━━━━━\u001b[0m \u001b[1m1:02\u001b[0m 152ms/step - accuracy: 0.9818 - loss: 0.0611Epoch 6/40\n",
            "\u001b[1m442/442\u001b[0m \u001b[32m━━━━━━━━━━━━━━━━━━━━\u001b[0m\u001b[37m\u001b[0m \u001b[1m74s\u001b[0m 167ms/step - accuracy: 0.9774 - loss: 0.0577 - val_accuracy: 0.9599 - val_loss: 0.1340\n",
            "Epoch 7/40\n",
            "\u001b[1m442/442\u001b[0m \u001b[32m━━━━━━━━━━━━━━━━━━━━\u001b[0m\u001b[37m\u001b[0m \u001b[1m74s\u001b[0m 167ms/step - accuracy: 0.9766 - loss: 0.0593 - val_accuracy: 0.9557 - val_loss: 0.1148\n",
            "Epoch 7/40\n",
            "\u001b[1m442/442\u001b[0m \u001b[32m━━━━━━━━━━━━━━━━━━━━\u001b[0m\u001b[37m\u001b[0m \u001b[1m75s\u001b[0m 170ms/step - accuracy: 0.9791 - loss: 0.0542 - val_accuracy: 0.9631 - val_loss: 0.1220\n",
            "\u001b[1m442/442\u001b[0m \u001b[32m━━━━━━━━━━━━━━━━━━━━\u001b[0m\u001b[37m\u001b[0m \u001b[1m60s\u001b[0m 135ms/step - accuracy: 0.9776 - loss: 0.0595 - val_accuracy: 0.9522 - val_loss: 0.1273\n",
            "Epoch 8/40\n",
            "\u001b[1m442/442\u001b[0m \u001b[32m━━━━━━━━━━━━━━━━━━━━\u001b[0m\u001b[37m\u001b[0m \u001b[1m56s\u001b[0m 127ms/step - accuracy: 0.9739 - loss: 0.0659 - val_accuracy: 0.9559 - val_loss: 0.1099\n",
            "Epoch 8/40\n",
            "\u001b[1m442/442\u001b[0m \u001b[32m━━━━━━━━━━━━━━━━━━━━\u001b[0m\u001b[37m\u001b[0m \u001b[1m54s\u001b[0m 122ms/step - accuracy: 0.9773 - loss: 0.0611 - val_accuracy: 0.9638 - val_loss: 0.0980\n",
            "Epoch 9/40\n",
            "\u001b[1m442/442\u001b[0m \u001b[32m━━━━━━━━━━━━━━━━━━━━\u001b[0m\u001b[37m\u001b[0m \u001b[1m54s\u001b[0m 121ms/step - accuracy: 0.9796 - loss: 0.0537 - val_accuracy: 0.9441 - val_loss: 0.1616\n",
            "Epoch 9/40\n",
            "\u001b[1m442/442\u001b[0m \u001b[32m━━━━━━━━━━━━━━━━━━━━\u001b[0m\u001b[37m\u001b[0m \u001b[1m54s\u001b[0m 122ms/step - accuracy: 0.9835 - loss: 0.0447 - val_accuracy: 0.9685 - val_loss: 0.0868\n",
            "Epoch 10/40\n",
            "\u001b[1m442/442\u001b[0m \u001b[32m━━━━━━━━━━━━━━━━━━━━\u001b[0m\u001b[37m\u001b[0m \u001b[1m54s\u001b[0m 122ms/step - accuracy: 0.9806 - loss: 0.0534 - val_accuracy: 0.9724 - val_loss: 0.0742\n",
            "Epoch 10/40\n",
            "\u001b[1m442/442\u001b[0m \u001b[32m━━━━━━━━━━━━━━━━━━━━\u001b[0m\u001b[37m\u001b[0m \u001b[1m53s\u001b[0m 121ms/step - accuracy: 0.9881 - loss: 0.0365 - val_accuracy: 0.9512 - val_loss: 0.1181\n",
            "Epoch 11/40\n",
            "\u001b[1m442/442\u001b[0m \u001b[32m━━━━━━━━━━━━━━━━━━━━\u001b[0m\u001b[37m\u001b[0m \u001b[1m54s\u001b[0m 122ms/step - accuracy: 0.9836 - loss: 0.0463 - val_accuracy: 0.9589 - val_loss: 0.1032\n",
            "Epoch 11/40\n",
            "\u001b[1m442/442\u001b[0m \u001b[32m━━━━━━━━━━━━━━━━━━━━\u001b[0m\u001b[37m\u001b[0m \u001b[1m54s\u001b[0m 121ms/step - accuracy: 0.9864 - loss: 0.0429 - val_accuracy: 0.9764 - val_loss: 0.0743\n",
            "Epoch 12/40\n",
            "\u001b[1m442/442\u001b[0m \u001b[32m━━━━━━━━━━━━━━━━━━━━\u001b[0m\u001b[37m\u001b[0m \u001b[1m54s\u001b[0m 121ms/step - accuracy: 0.9851 - loss: 0.0445 - val_accuracy: 0.9768 - val_loss: 0.0735\n",
            "Epoch 12/40\n",
            "\u001b[1m442/442\u001b[0m \u001b[32m━━━━━━━━━━━━━━━━━━━━\u001b[0m\u001b[37m\u001b[0m \u001b[1m53s\u001b[0m 120ms/step - accuracy: 0.9920 - loss: 0.0239 - val_accuracy: 0.9778 - val_loss: 0.0747\n",
            "Epoch 13/40\n",
            "\u001b[1m442/442\u001b[0m \u001b[32m━━━━━━━━━━━━━━━━━━━━\u001b[0m\u001b[37m\u001b[0m \u001b[1m54s\u001b[0m 122ms/step - accuracy: 0.9893 - loss: 0.0282 - val_accuracy: 0.9724 - val_loss: 0.0860\n",
            "\u001b[1m 46/442\u001b[0m \u001b[32m━━\u001b[0m\u001b[37m━━━━━━━━━━━━━━━━━━\u001b[0m \u001b[1m40s\u001b[0m 101ms/step - accuracy: 0.9842 - loss: 0.0465Epoch 13/40\n",
            "\u001b[1m442/442\u001b[0m \u001b[32m━━━━━━━━━━━━━━━━━━━━\u001b[0m\u001b[37m\u001b[0m \u001b[1m54s\u001b[0m 123ms/step - accuracy: 0.9871 - loss: 0.0412 - val_accuracy: 0.9675 - val_loss: 0.1269\n",
            "Epoch 14/40\n",
            "\u001b[1m442/442\u001b[0m \u001b[32m━━━━━━━━━━━━━━━━━━━━\u001b[0m\u001b[37m\u001b[0m \u001b[1m54s\u001b[0m 123ms/step - accuracy: 0.9884 - loss: 0.0292 - val_accuracy: 0.9695 - val_loss: 0.1050\n",
            "\u001b[1m 45/442\u001b[0m \u001b[32m━━\u001b[0m\u001b[37m━━━━━━━━━━━━━━━━━━\u001b[0m \u001b[1m41s\u001b[0m 104ms/step - accuracy: 0.9913 - loss: 0.0198Epoch 14/40\n",
            "\u001b[1m442/442\u001b[0m \u001b[32m━━━━━━━━━━━━━━━━━━━━\u001b[0m\u001b[37m\u001b[0m \u001b[1m54s\u001b[0m 122ms/step - accuracy: 0.9934 - loss: 0.0172 - val_accuracy: 0.9621 - val_loss: 0.1900\n",
            "Epoch 15/40\n",
            "\u001b[1m442/442\u001b[0m \u001b[32m━━━━━━━━━━━━━━━━━━━━\u001b[0m\u001b[37m\u001b[0m \u001b[1m54s\u001b[0m 122ms/step - accuracy: 0.9940 - loss: 0.0170 - val_accuracy: 0.9707 - val_loss: 0.0977\n",
            "Epoch 15/40\n",
            "\u001b[1m442/442\u001b[0m \u001b[32m━━━━━━━━━━━━━━━━━━━━\u001b[0m\u001b[37m\u001b[0m \u001b[1m53s\u001b[0m 121ms/step - accuracy: 0.9829 - loss: 0.0486 - val_accuracy: 0.9601 - val_loss: 0.1182\n",
            "Epoch 16/40\n",
            "\u001b[1m442/442\u001b[0m \u001b[32m━━━━━━━━━━━━━━━━━━━━\u001b[0m\u001b[37m\u001b[0m \u001b[1m53s\u001b[0m 120ms/step - accuracy: 0.9888 - loss: 0.0332 - val_accuracy: 0.9766 - val_loss: 0.0864\n",
            "Epoch 16/40\n",
            "\u001b[1m442/442\u001b[0m \u001b[32m━━━━━━━━━━━━━━━━━━━━\u001b[0m\u001b[37m\u001b[0m \u001b[1m53s\u001b[0m 120ms/step - accuracy: 0.9934 - loss: 0.0201 - val_accuracy: 0.9815 - val_loss: 0.0788\n",
            "Epoch 17/40\n",
            "\u001b[1m442/442\u001b[0m \u001b[32m━━━━━━━━━━━━━━━━━━━━\u001b[0m\u001b[37m\u001b[0m \u001b[1m52s\u001b[0m 118ms/step - accuracy: 0.9924 - loss: 0.0260 - val_accuracy: 0.9569 - val_loss: 0.2823\n",
            "Epoch 17/40\n",
            "\u001b[1m442/442\u001b[0m \u001b[32m━━━━━━━━━━━━━━━━━━━━\u001b[0m\u001b[37m\u001b[0m \u001b[1m54s\u001b[0m 121ms/step - accuracy: 0.9933 - loss: 0.0209 - val_accuracy: 0.9727 - val_loss: 0.1386\n",
            "Epoch 18/40\n",
            "\u001b[1m442/442\u001b[0m \u001b[32m━━━━━━━━━━━━━━━━━━━━\u001b[0m\u001b[37m\u001b[0m \u001b[1m54s\u001b[0m 121ms/step - accuracy: 0.9921 - loss: 0.0242 - val_accuracy: 0.9773 - val_loss: 0.0826\n",
            "Epoch 18/40\n",
            "\u001b[1m442/442\u001b[0m \u001b[32m━━━━━━━━━━━━━━━━━━━━\u001b[0m\u001b[37m\u001b[0m \u001b[1m54s\u001b[0m 122ms/step - accuracy: 0.9931 - loss: 0.0279 - val_accuracy: 0.9746 - val_loss: 0.1076\n",
            "Epoch 19/40\n",
            "\u001b[1m442/442\u001b[0m \u001b[32m━━━━━━━━━━━━━━━━━━━━\u001b[0m\u001b[37m\u001b[0m \u001b[1m54s\u001b[0m 122ms/step - accuracy: 0.9931 - loss: 0.0198 - val_accuracy: 0.9766 - val_loss: 0.0682\n",
            "Epoch 19/40\n",
            "\u001b[1m442/442\u001b[0m \u001b[32m━━━━━━━━━━━━━━━━━━━━\u001b[0m\u001b[37m\u001b[0m \u001b[1m54s\u001b[0m 121ms/step - accuracy: 0.9964 - loss: 0.0120 - val_accuracy: 0.9751 - val_loss: 0.0975\n",
            "Epoch 20/40\n",
            "\u001b[1m442/442\u001b[0m \u001b[32m━━━━━━━━━━━━━━━━━━━━\u001b[0m\u001b[37m\u001b[0m \u001b[1m53s\u001b[0m 121ms/step - accuracy: 0.9958 - loss: 0.0152 - val_accuracy: 0.9805 - val_loss: 0.0674\n",
            "Epoch 20/40\n",
            "\u001b[1m442/442\u001b[0m \u001b[32m━━━━━━━━━━━━━━━━━━━━\u001b[0m\u001b[37m\u001b[0m \u001b[1m53s\u001b[0m 120ms/step - accuracy: 0.9966 - loss: 0.0094 - val_accuracy: 0.9704 - val_loss: 0.1423\n",
            "Epoch 21/40\n",
            "\u001b[1m442/442\u001b[0m \u001b[32m━━━━━━━━━━━━━━━━━━━━\u001b[0m\u001b[37m\u001b[0m \u001b[1m53s\u001b[0m 119ms/step - accuracy: 0.9962 - loss: 0.0122 - val_accuracy: 0.9690 - val_loss: 0.0979\n",
            "Epoch 21/40\n",
            "\u001b[1m442/442\u001b[0m \u001b[32m━━━━━━━━━━━━━━━━━━━━\u001b[0m\u001b[37m\u001b[0m \u001b[1m54s\u001b[0m 122ms/step - accuracy: 0.9886 - loss: 0.0358 - val_accuracy: 0.9786 - val_loss: 0.0984\n",
            "Epoch 22/40\n",
            "\u001b[1m442/442\u001b[0m \u001b[32m━━━━━━━━━━━━━━━━━━━━\u001b[0m\u001b[37m\u001b[0m \u001b[1m53s\u001b[0m 119ms/step - accuracy: 0.9936 - loss: 0.0186 - val_accuracy: 0.9805 - val_loss: 0.1006\n",
            "Epoch 22/40\n",
            "\u001b[1m442/442\u001b[0m \u001b[32m━━━━━━━━━━━━━━━━━━━━\u001b[0m\u001b[37m\u001b[0m \u001b[1m53s\u001b[0m 120ms/step - accuracy: 0.9968 - loss: 0.0100 - val_accuracy: 0.9773 - val_loss: 0.1173\n",
            "Epoch 23/40\n",
            "\u001b[1m442/442\u001b[0m \u001b[32m━━━━━━━━━━━━━━━━━━━━\u001b[0m\u001b[37m\u001b[0m \u001b[1m53s\u001b[0m 119ms/step - accuracy: 0.9957 - loss: 0.0135 - val_accuracy: 0.9803 - val_loss: 0.0972\n",
            "\u001b[1m 12/442\u001b[0m \u001b[37m━━━━━━━━━━━━━━━━━━━━\u001b[0m \u001b[1m42s\u001b[0m 98ms/step - accuracy: 0.9796 - loss: 0.0707Epoch 23/40\n",
            "\u001b[1m442/442\u001b[0m \u001b[32m━━━━━━━━━━━━━━━━━━━━\u001b[0m\u001b[37m\u001b[0m \u001b[1m53s\u001b[0m 119ms/step - accuracy: 0.9899 - loss: 0.0298 - val_accuracy: 0.9559 - val_loss: 0.2430\n",
            "Epoch 24/40\n",
            "\u001b[1m442/442\u001b[0m \u001b[32m━━━━━━━━━━━━━━━━━━━━\u001b[0m\u001b[37m\u001b[0m \u001b[1m62s\u001b[0m 140ms/step - accuracy: 0.9901 - loss: 0.0573 - val_accuracy: 0.9530 - val_loss: 0.2854\n",
            "Epoch 24/40\n",
            "\u001b[1m442/442\u001b[0m \u001b[32m━━━━━━━━━━━━━━━━━━━━\u001b[0m\u001b[37m\u001b[0m \u001b[1m49s\u001b[0m 112ms/step - accuracy: 0.9932 - loss: 0.0218 - val_accuracy: 0.9803 - val_loss: 0.0885\n",
            "Epoch 25/40\n",
            "\u001b[1m442/442\u001b[0m \u001b[32m━━━━━━━━━━━━━━━━━━━━\u001b[0m\u001b[37m\u001b[0m \u001b[1m54s\u001b[0m 121ms/step - accuracy: 0.9910 - loss: 0.0251 - val_accuracy: 0.9749 - val_loss: 0.1886\n",
            "Epoch 25/40\n",
            "\u001b[1m442/442\u001b[0m \u001b[32m━━━━━━━━━━━━━━━━━━━━\u001b[0m\u001b[37m\u001b[0m \u001b[1m52s\u001b[0m 117ms/step - accuracy: 0.9972 - loss: 0.0106 - val_accuracy: 0.9825 - val_loss: 0.0910\n",
            "\u001b[1m426/442\u001b[0m \u001b[32m━━━━━━━━━━━━━━━━━━━\u001b[0m\u001b[37m━\u001b[0m \u001b[1m1s\u001b[0m 94ms/step - accuracy: 0.9969 - loss: 0.0093Epoch 26/40\n",
            "\u001b[1m442/442\u001b[0m \u001b[32m━━━━━━━━━━━━━━━━━━━━\u001b[0m\u001b[37m\u001b[0m \u001b[1m54s\u001b[0m 121ms/step - accuracy: 0.9969 - loss: 0.0093 - val_accuracy: 0.9771 - val_loss: 0.1279\n",
            "Epoch 26/40\n",
            "\u001b[1m442/442\u001b[0m \u001b[32m━━━━━━━━━━━━━━━━━━━━\u001b[0m\u001b[37m\u001b[0m \u001b[1m54s\u001b[0m 121ms/step - accuracy: 0.9969 - loss: 0.0091 - val_accuracy: 0.9835 - val_loss: 0.0864\n",
            "Epoch 27/40\n",
            "\u001b[1m442/442\u001b[0m \u001b[32m━━━━━━━━━━━━━━━━━━━━\u001b[0m\u001b[37m\u001b[0m \u001b[1m54s\u001b[0m 122ms/step - accuracy: 0.9968 - loss: 0.0084 - val_accuracy: 0.9800 - val_loss: 0.1324\n",
            "Epoch 27/40\n",
            "\u001b[1m442/442\u001b[0m \u001b[32m━━━━━━━━━━━━━━━━━━━━\u001b[0m\u001b[37m\u001b[0m \u001b[1m54s\u001b[0m 123ms/step - accuracy: 0.9981 - loss: 0.0059 - val_accuracy: 0.9746 - val_loss: 0.1287\n",
            "Epoch 28/40\n",
            "\u001b[1m442/442\u001b[0m \u001b[32m━━━━━━━━━━━━━━━━━━━━\u001b[0m\u001b[37m\u001b[0m \u001b[1m54s\u001b[0m 123ms/step - accuracy: 0.9971 - loss: 0.0086 - val_accuracy: 0.9808 - val_loss: 0.0847\n",
            "Epoch 28/40\n",
            "\u001b[1m442/442\u001b[0m \u001b[32m━━━━━━━━━━━━━━━━━━━━\u001b[0m\u001b[37m\u001b[0m \u001b[1m53s\u001b[0m 121ms/step - accuracy: 0.9938 - loss: 0.0155 - val_accuracy: 0.9793 - val_loss: 0.0932\n",
            "\u001b[1m421/442\u001b[0m \u001b[32m━━━━━━━━━━━━━━━━━━━\u001b[0m\u001b[37m━\u001b[0m \u001b[1m1s\u001b[0m 93ms/step - accuracy: 0.9977 - loss: 0.0066Epoch 29/40\n",
            "\u001b[1m442/442\u001b[0m \u001b[32m━━━━━━━━━━━━━━━━━━━━\u001b[0m\u001b[37m\u001b[0m \u001b[1m51s\u001b[0m 115ms/step - accuracy: 0.9977 - loss: 0.0067 - val_accuracy: 0.9744 - val_loss: 0.2003\n",
            "Epoch 29/40\n",
            "\u001b[1m442/442\u001b[0m \u001b[32m━━━━━━━━━━━━━━━━━━━━\u001b[0m\u001b[37m\u001b[0m \u001b[1m51s\u001b[0m 115ms/step - accuracy: 0.9926 - loss: 0.0276 - val_accuracy: 0.9761 - val_loss: 0.0991\n",
            "Epoch 30/40\n",
            "\u001b[1m442/442\u001b[0m \u001b[32m━━━━━━━━━━━━━━━━━━━━\u001b[0m\u001b[37m\u001b[0m \u001b[1m54s\u001b[0m 121ms/step - accuracy: 0.9902 - loss: 0.0359 - val_accuracy: 0.9815 - val_loss: 0.1139\n",
            "Epoch 30/40\n",
            "\u001b[1m442/442\u001b[0m \u001b[32m━━━━━━━━━━━━━━━━━━━━\u001b[0m\u001b[37m\u001b[0m \u001b[1m53s\u001b[0m 120ms/step - accuracy: 0.9980 - loss: 0.0058 - val_accuracy: 0.9818 - val_loss: 0.0939\n",
            "Epoch 31/40\n",
            "\u001b[1m442/442\u001b[0m \u001b[32m━━━━━━━━━━━━━━━━━━━━\u001b[0m\u001b[37m\u001b[0m \u001b[1m53s\u001b[0m 120ms/step - accuracy: 0.9981 - loss: 0.0059 - val_accuracy: 0.9796 - val_loss: 0.1333\n",
            "Epoch 31/40\n",
            "\u001b[1m442/442\u001b[0m \u001b[32m━━━━━━━━━━━━━━━━━━━━\u001b[0m\u001b[37m\u001b[0m \u001b[1m54s\u001b[0m 122ms/step - accuracy: 0.9968 - loss: 0.0106 - val_accuracy: 0.9717 - val_loss: 0.1615\n",
            "Epoch 32/40\n",
            "\u001b[1m442/442\u001b[0m \u001b[32m━━━━━━━━━━━━━━━━━━━━\u001b[0m\u001b[37m\u001b[0m \u001b[1m54s\u001b[0m 121ms/step - accuracy: 0.9928 - loss: 0.0220 - val_accuracy: 0.9783 - val_loss: 0.1140\n",
            "Epoch 32/40\n",
            "\u001b[1m442/442\u001b[0m \u001b[32m━━━━━━━━━━━━━━━━━━━━\u001b[0m\u001b[37m\u001b[0m \u001b[1m53s\u001b[0m 121ms/step - accuracy: 0.9972 - loss: 0.0098 - val_accuracy: 0.9798 - val_loss: 0.1153\n",
            "Epoch 33/40\n",
            "\u001b[1m442/442\u001b[0m \u001b[32m━━━━━━━━━━━━━━━━━━━━\u001b[0m\u001b[37m\u001b[0m \u001b[1m53s\u001b[0m 120ms/step - accuracy: 0.9985 - loss: 0.0056 - val_accuracy: 0.9759 - val_loss: 0.1606\n",
            "Epoch 33/40\n",
            "\u001b[1m442/442\u001b[0m \u001b[32m━━━━━━━━━━━━━━━━━━━━\u001b[0m\u001b[37m\u001b[0m \u001b[1m53s\u001b[0m 120ms/step - accuracy: 0.9964 - loss: 0.0113 - val_accuracy: 0.9781 - val_loss: 0.1260\n",
            "Epoch 34/40\n",
            "\u001b[1m442/442\u001b[0m \u001b[32m━━━━━━━━━━━━━━━━━━━━\u001b[0m\u001b[37m\u001b[0m \u001b[1m54s\u001b[0m 121ms/step - accuracy: 0.9974 - loss: 0.0087 - val_accuracy: 0.9803 - val_loss: 0.1390\n",
            "Epoch 34/40\n",
            "\u001b[1m442/442\u001b[0m \u001b[32m━━━━━━━━━━━━━━━━━━━━\u001b[0m\u001b[37m\u001b[0m \u001b[1m54s\u001b[0m 121ms/step - accuracy: 0.9997 - loss: 6.5955e-04 - val_accuracy: 0.9842 - val_loss: 0.1317\n",
            "Epoch 35/40\n",
            "\u001b[1m442/442\u001b[0m \u001b[32m━━━━━━━━━━━━━━━━━━━━\u001b[0m\u001b[37m\u001b[0m \u001b[1m54s\u001b[0m 121ms/step - accuracy: 0.9998 - loss: 0.0013 - val_accuracy: 0.9835 - val_loss: 0.1638\n",
            "Epoch 35/40\n",
            "\u001b[1m442/442\u001b[0m \u001b[32m━━━━━━━━━━━━━━━━━━━━\u001b[0m\u001b[37m\u001b[0m \u001b[1m53s\u001b[0m 120ms/step - accuracy: 1.0000 - loss: 3.4840e-05 - val_accuracy: 0.9855 - val_loss: 0.1315\n",
            "Epoch 36/40\n",
            "\u001b[1m442/442\u001b[0m \u001b[32m━━━━━━━━━━━━━━━━━━━━\u001b[0m\u001b[37m\u001b[0m \u001b[1m54s\u001b[0m 122ms/step - accuracy: 1.0000 - loss: 8.8701e-05 - val_accuracy: 0.9840 - val_loss: 0.1690\n",
            "\u001b[1m155/442\u001b[0m \u001b[32m━━━━━━━\u001b[0m\u001b[37m━━━━━━━━━━━━━\u001b[0m \u001b[1m27s\u001b[0m 95ms/step - accuracy: 1.0000 - loss: 1.1559e-05Epoch 36/40\n",
            "\u001b[1m442/442\u001b[0m \u001b[32m━━━━━━━━━━━━━━━━━━━━\u001b[0m\u001b[37m\u001b[0m \u001b[1m53s\u001b[0m 120ms/step - accuracy: 1.0000 - loss: 1.1692e-05 - val_accuracy: 0.9850 - val_loss: 0.1381\n",
            "Epoch 37/40\n",
            "\u001b[1m442/442\u001b[0m \u001b[32m━━━━━━━━━━━━━━━━━━━━\u001b[0m\u001b[37m\u001b[0m \u001b[1m53s\u001b[0m 121ms/step - accuracy: 1.0000 - loss: 7.0904e-06 - val_accuracy: 0.9837 - val_loss: 0.1757\n",
            "Epoch 37/40\n",
            "\u001b[1m442/442\u001b[0m \u001b[32m━━━━━━━━━━━━━━━━━━━━\u001b[0m\u001b[37m\u001b[0m \u001b[1m53s\u001b[0m 119ms/step - accuracy: 1.0000 - loss: 9.5932e-06 - val_accuracy: 0.9850 - val_loss: 0.1414\n",
            "Epoch 38/40\n",
            "\u001b[1m442/442\u001b[0m \u001b[32m━━━━━━━━━━━━━━━━━━━━\u001b[0m\u001b[37m\u001b[0m \u001b[1m53s\u001b[0m 121ms/step - accuracy: 1.0000 - loss: 2.9931e-05 - val_accuracy: 0.9837 - val_loss: 0.1809\n",
            "Epoch 38/40\n",
            "\u001b[1m442/442\u001b[0m \u001b[32m━━━━━━━━━━━━━━━━━━━━\u001b[0m\u001b[37m\u001b[0m \u001b[1m54s\u001b[0m 122ms/step - accuracy: 0.9978 - loss: 0.0076 - val_accuracy: 0.9749 - val_loss: 0.0821\n",
            "Epoch 39/40\n",
            "\u001b[1m442/442\u001b[0m \u001b[32m━━━━━━━━━━━━━━━━━━━━\u001b[0m\u001b[37m\u001b[0m \u001b[1m54s\u001b[0m 123ms/step - accuracy: 0.9891 - loss: 0.0320 - val_accuracy: 0.9761 - val_loss: 0.0864\n",
            "Epoch 39/40\n",
            "\u001b[1m442/442\u001b[0m \u001b[32m━━━━━━━━━━━━━━━━━━━━\u001b[0m\u001b[37m\u001b[0m \u001b[1m53s\u001b[0m 119ms/step - accuracy: 0.9926 - loss: 0.0221 - val_accuracy: 0.9798 - val_loss: 0.0924\n",
            "Epoch 40/40\n",
            "\u001b[1m442/442\u001b[0m \u001b[32m━━━━━━━━━━━━━━━━━━━━\u001b[0m\u001b[37m\u001b[0m \u001b[1m54s\u001b[0m 122ms/step - accuracy: 0.9924 - loss: 0.0272 - val_accuracy: 0.9739 - val_loss: 0.1279\n",
            "Epoch 40/40\n",
            "\u001b[1m442/442\u001b[0m \u001b[32m━━━━━━━━━━━━━━━━━━━━\u001b[0m\u001b[37m\u001b[0m \u001b[1m52s\u001b[0m 118ms/step - accuracy: 0.9964 - loss: 0.0096 - val_accuracy: 0.9650 - val_loss: 0.1784\n",
            "\u001b[1m442/442\u001b[0m \u001b[32m━━━━━━━━━━━━━━━━━━━━\u001b[0m\u001b[37m\u001b[0m \u001b[1m48s\u001b[0m 108ms/step - accuracy: 0.9955 - loss: 0.0134 - val_accuracy: 0.9712 - val_loss: 0.1351\n"
          ]
        }
      ],
      "source": [
        "# Train 3 models in parallel\n",
        "with ThreadPoolExecutor(max_workers=3) as executor:\n",
        "    history_clahe = executor.submit(train_model, model_clahe, train_data_clahe, 40, validation_data_clahe)\n",
        "    history_kalman = executor.submit(train_model, model_kalman, train_data_kalman, 40, validation_data_kalman)\n",
        "    history_gamma = executor.submit(train_model, model_gamma, train_data_gamma, 40, validation_data_gamma)"
      ]
    },
    {
      "cell_type": "code",
      "execution_count": null,
      "metadata": {
        "id": "ZXG8-CRHulrA"
      },
      "outputs": [],
      "source": [
        "trained_model_clahe = history_clahe.result()\n",
        "trained_model_kalman = history_kalman.result()\n",
        "trained_model_gamma = history_gamma.result()"
      ]
    },
    {
      "cell_type": "code",
      "execution_count": null,
      "metadata": {
        "id": "2KXS3DdgulrA"
      },
      "outputs": [],
      "source": [
        "# Save models\n",
        "model_clahe.save(\"vgg16_clahe.keras\")\n",
        "model_kalman.save(\"vgg16_kalman.keras\")\n",
        "model_gamma.save(\"vgg16_gamma.keras\")"
      ]
    },
    {
      "cell_type": "markdown",
      "metadata": {
        "id": "QJ7AX5T7z4NB",
        "jp-MarkdownHeadingCollapsed": true
      },
      "source": [
        "## Evaluation metrics"
      ]
    },
    {
      "cell_type": "code",
      "execution_count": null,
      "metadata": {
        "id": "TyatlEOj19cM",
        "outputId": "830f4a5c-74c6-4b22-b6dd-391433c2f77f"
      },
      "outputs": [
        {
          "name": "stdout",
          "output_type": "stream",
          "text": [
            "\u001b[1m17/44\u001b[0m \u001b[32m━━━━━━━\u001b[0m\u001b[37m━━━━━━━━━━━━━\u001b[0m \u001b[1m1s\u001b[0m 62ms/step"
          ]
        },
        {
          "name": "stdout",
          "output_type": "stream",
          "text": [
            "\u001b[1m44/44\u001b[0m \u001b[32m━━━━━━━━━━━━━━━━━━━━\u001b[0m\u001b[37m\u001b[0m \u001b[1m3s\u001b[0m 60ms/step\n",
            "\u001b[1m44/44\u001b[0m \u001b[32m━━━━━━━━━━━━━━━━━━━━\u001b[0m\u001b[37m\u001b[0m \u001b[1m3s\u001b[0m 62ms/step\n",
            "\u001b[1m44/44\u001b[0m \u001b[32m━━━━━━━━━━━━━━━━━━━━\u001b[0m\u001b[37m\u001b[0m \u001b[1m3s\u001b[0m 66ms/step\n"
          ]
        }
      ],
      "source": [
        "# Predict probabilities\n",
        "predictions_clahe = model_clahe.predict(test_data_clahe)\n",
        "predictions_kalman = model_kalman.predict(test_data_kalman)\n",
        "predictions_gamma = model_gamma.predict(test_data_gamma)\n",
        "\n",
        "# Convert probabilities to class labels (for binary classification)\n",
        "predicted_classes_clahe = (predictions_clahe >= 0.5).astype(int).flatten()\n",
        "predicted_classes_kalman = (predictions_kalman >= 0.5).astype(int).flatten()\n",
        "predicted_classes_gamma = (predictions_gamma >= 0.5).astype(int).flatten()\n",
        "\n",
        "true_labels_clahe = test_data_clahe.classes\n",
        "true_labels_kalman = test_data_clahe.classes\n",
        "true_labels_gamma = test_data_clahe.classes\n"
      ]
    },
    {
      "cell_type": "code",
      "execution_count": null,
      "metadata": {
        "id": "Vka5MMliulrB",
        "outputId": "6f2d20d2-8c08-4d1f-f0c1-2ac3428ec710"
      },
      "outputs": [
        {
          "data": {
            "text/plain": [
              "dict_keys(['COVID', 'Normal'])"
            ]
          },
          "execution_count": 58,
          "metadata": {},
          "output_type": "execute_result"
        }
      ],
      "source": [
        "class_names = train_data_gamma.class_indices\n",
        "class_names.keys()"
      ]
    },
    {
      "cell_type": "code",
      "execution_count": null,
      "metadata": {
        "id": "U2ZfahnS2EkV",
        "outputId": "c9724e0e-4d27-4c53-d18f-50062361ecb6"
      },
      "outputs": [
        {
          "name": "stdout",
          "output_type": "stream",
          "text": [
            "Clahe Accuracy: 0.9645\n",
            "Clahe Precision: 0.9909\n",
            "Clahe Recall: 0.9608\n",
            "Clahe F1-Score: 0.9756\n",
            "Clahe AUC: 0.9932\n",
            "\n",
            "Clahe Confusion Matrix:\n",
            "[[353   9]\n",
            " [ 40 980]]\n",
            "\n",
            "Clahe Classification Report:\n",
            "              precision    recall  f1-score   support\n",
            "\n",
            "       COVID       0.90      0.98      0.94       362\n",
            "      Normal       0.99      0.96      0.98      1020\n",
            "\n",
            "    accuracy                           0.96      1382\n",
            "   macro avg       0.94      0.97      0.96      1382\n",
            "weighted avg       0.97      0.96      0.96      1382\n",
            "\n"
          ]
        }
      ],
      "source": [
        "# Metrics for binary classification\n",
        "accuracy_clahe = accuracy_score(true_labels_clahe, predicted_classes_clahe)\n",
        "precision_clahe = precision_score(true_labels_clahe, predicted_classes_clahe)\n",
        "recall_clahe = recall_score(true_labels_clahe, predicted_classes_clahe)\n",
        "f1_clahe = f1_score(true_labels_clahe, predicted_classes_clahe)\n",
        "\n",
        "# AUC for binary classification\n",
        "auc_clahe = roc_auc_score(true_labels_clahe, predictions_clahe.flatten())\n",
        "\n",
        "# Confusion Matrix and Classification Report\n",
        "conf_matrix_clahe = confusion_matrix(true_labels_clahe, predicted_classes_clahe)\n",
        "report_clahe = classification_report(true_labels_clahe, predicted_classes_clahe, target_names=class_names.keys())\n",
        "\n",
        "print(f\"Clahe Accuracy: {accuracy_clahe:.4f}\")\n",
        "print(f\"Clahe Precision: {precision_clahe:.4f}\")\n",
        "print(f\"Clahe Recall: {recall_clahe:.4f}\")\n",
        "print(f\"Clahe F1-Score: {f1_clahe:.4f}\")\n",
        "print(f\"Clahe AUC: {auc_clahe:.4f}\")\n",
        "print(\"\\nClahe Confusion Matrix:\")\n",
        "print(conf_matrix_clahe)\n",
        "print(\"\\nClahe Classification Report:\")\n",
        "print(report_clahe)\n"
      ]
    },
    {
      "cell_type": "code",
      "execution_count": null,
      "metadata": {
        "id": "vJYHyRlvulrC",
        "outputId": "3106d803-e432-4143-d5e9-916520f18ee7"
      },
      "outputs": [
        {
          "name": "stdout",
          "output_type": "stream",
          "text": [
            "Kalman Accuracy: 0.9624\n",
            "Kalman Precision: 0.9959\n",
            "Kalman Recall: 0.9529\n",
            "Kalman F1-Score: 0.9739\n",
            "Kalman AUC: 0.9959\n",
            "\n",
            "Kalman Confusion Matrix:\n",
            "[[358   4]\n",
            " [ 48 972]]\n",
            "\n",
            "Kalman Classification Report:\n",
            "              precision    recall  f1-score   support\n",
            "\n",
            "       COVID       0.88      0.99      0.93       362\n",
            "      Normal       1.00      0.95      0.97      1020\n",
            "\n",
            "    accuracy                           0.96      1382\n",
            "   macro avg       0.94      0.97      0.95      1382\n",
            "weighted avg       0.97      0.96      0.96      1382\n",
            "\n"
          ]
        }
      ],
      "source": [
        "# Metrics for binary classification\n",
        "accuracy_kalman = accuracy_score(true_labels_kalman, predicted_classes_kalman)\n",
        "precision_kalman = precision_score(true_labels_kalman, predicted_classes_kalman)\n",
        "recall_kalman = recall_score(true_labels_kalman, predicted_classes_kalman)\n",
        "f1_kalman = f1_score(true_labels_kalman, predicted_classes_kalman)\n",
        "\n",
        "# AUC for binary classification\n",
        "auc_kalman = roc_auc_score(true_labels_kalman, predictions_kalman.flatten())\n",
        "\n",
        "# Confusion Matrix and Classification Report\n",
        "conf_matrix_kalman = confusion_matrix(true_labels_kalman, predicted_classes_kalman)\n",
        "report_kalman = classification_report(true_labels_kalman, predicted_classes_kalman, target_names=class_names.keys())\n",
        "\n",
        "print(f\"Kalman Accuracy: {accuracy_kalman:.4f}\")\n",
        "print(f\"Kalman Precision: {precision_kalman:.4f}\")\n",
        "print(f\"Kalman Recall: {recall_kalman:.4f}\")\n",
        "print(f\"Kalman F1-Score: {f1_kalman:.4f}\")\n",
        "print(f\"Kalman AUC: {auc_kalman:.4f}\")\n",
        "print(\"\\nKalman Confusion Matrix:\")\n",
        "print(conf_matrix_kalman)\n",
        "print(\"\\nKalman Classification Report:\")\n",
        "print(report_kalman)"
      ]
    },
    {
      "cell_type": "code",
      "execution_count": null,
      "metadata": {
        "id": "nuTXkcdaulrC",
        "outputId": "6c9c268c-70b2-4248-defe-d812a896d0d6"
      },
      "outputs": [
        {
          "name": "stdout",
          "output_type": "stream",
          "text": [
            "Gamma Correction Accuracy: 0.9588\n",
            "Gamma Correction Precision: 0.9949\n",
            "Gamma Correction Recall: 0.9490\n",
            "Gamma Correction F1-Score: 0.9714\n",
            "Gamma Correction AUC: 0.9932\n",
            "\n",
            "Gamma Correction Confusion Matrix:\n",
            "[[357   5]\n",
            " [ 52 968]]\n",
            "\n",
            "Gamma Correction Classification Report:\n",
            "              precision    recall  f1-score   support\n",
            "\n",
            "       COVID       0.87      0.99      0.93       362\n",
            "      Normal       0.99      0.95      0.97      1020\n",
            "\n",
            "    accuracy                           0.96      1382\n",
            "   macro avg       0.93      0.97      0.95      1382\n",
            "weighted avg       0.96      0.96      0.96      1382\n",
            "\n"
          ]
        }
      ],
      "source": [
        "# Metrics for binary classification\n",
        "accuracy_gamma = accuracy_score(true_labels_gamma, predicted_classes_gamma)\n",
        "precision_gamma = precision_score(true_labels_gamma, predicted_classes_gamma)\n",
        "recall_gamma = recall_score(true_labels_gamma, predicted_classes_gamma)\n",
        "f1_gamma = f1_score(true_labels_gamma, predicted_classes_gamma)\n",
        "\n",
        "# AUC for binary classification\n",
        "auc_gamma = roc_auc_score(true_labels_gamma, predictions_gamma.flatten())\n",
        "\n",
        "# Confusion Matrix and Classification Report\n",
        "conf_matrix_gamma = confusion_matrix(true_labels_gamma, predicted_classes_gamma)\n",
        "report_gamma = classification_report(true_labels_gamma, predicted_classes_gamma, target_names=class_names.keys())\n",
        "\n",
        "# Print results\n",
        "print(f\"Gamma Correction Accuracy: {accuracy_gamma:.4f}\")\n",
        "print(f\"Gamma Correction Precision: {precision_gamma:.4f}\")\n",
        "print(f\"Gamma Correction Recall: {recall_gamma:.4f}\")\n",
        "print(f\"Gamma Correction F1-Score: {f1_gamma:.4f}\")\n",
        "print(f\"Gamma Correction AUC: {auc_gamma:.4f}\")\n",
        "print(\"\\nGamma Correction Confusion Matrix:\")\n",
        "print(conf_matrix_gamma)\n",
        "print(\"\\nGamma Correction Classification Report:\")\n",
        "print(report_gamma)"
      ]
    },
    {
      "cell_type": "markdown",
      "source": [
        "Confusion Matrices visualization"
      ],
      "metadata": {
        "id": "6wP3wP9Fx1ZV"
      }
    },
    {
      "cell_type": "code",
      "execution_count": null,
      "metadata": {
        "id": "W7gzw5mr2H_7",
        "outputId": "df001319-75d7-4e3f-e93b-a7ab76ef5f89"
      },
      "outputs": [
        {
          "data": {
            "image/png": "[encoded data removed]",
            "text/plain": [
              "<Figure size 800x600 with 2 Axes>"
            ]
          },
          "metadata": {},
          "output_type": "display_data"
        }
      ],
      "source": [
        "plt.figure(figsize=(8, 6))\n",
        "plt.imshow(conf_matrix_clahe, interpolation='nearest', cmap=plt.cm.Blues)\n",
        "plt.title(\"Clahe Confusion Matrix\")\n",
        "plt.colorbar()\n",
        "plt.xlabel(\"COVID - Normal\")\n",
        "plt.ylabel(\"Normal - COVID\")\n",
        "plt.show()"
      ]
    },
    {
      "cell_type": "code",
      "execution_count": null,
      "metadata": {
        "id": "W3NIfiu82Su7",
        "outputId": "0b60d794-b9a3-4b06-b84b-9102add2ab56"
      },
      "outputs": [
        {
          "data": {
            "image/png": "[encoded data removed]",
            "text/plain": [
              "<Figure size 800x600 with 2 Axes>"
            ]
          },
          "metadata": {},
          "output_type": "display_data"
        }
      ],
      "source": [
        "plt.figure(figsize=(8, 6))\n",
        "plt.imshow(conf_matrix_kalman, interpolation='nearest', cmap=plt.cm.Blues)\n",
        "plt.title(\"Kalman Confusion Matrix\")\n",
        "plt.colorbar()\n",
        "plt.xlabel(\"COVID - Normal\")\n",
        "plt.ylabel(\"Normal - COVID\")\n",
        "plt.show()\n"
      ]
    },
    {
      "cell_type": "code",
      "execution_count": null,
      "metadata": {
        "id": "uXTZipnu2V11",
        "outputId": "75f5863f-d705-4a1c-a38c-af35be0659e0"
      },
      "outputs": [
        {
          "data": {
            "image/png": "[encoded data removed]",
            "text/plain": [
              "<Figure size 800x600 with 2 Axes>"
            ]
          },
          "metadata": {},
          "output_type": "display_data"
        }
      ],
      "source": [
        "plt.figure(figsize=(8, 6))\n",
        "plt.imshow(conf_matrix_gamma, interpolation='nearest', cmap=plt.cm.Blues)\n",
        "plt.title(\"Confusion Matrix Gamma Correlation\")\n",
        "plt.colorbar()\n",
        "plt.xlabel(\"COVID - Normal\")\n",
        "plt.ylabel(\"Normal - COVID\")\n",
        "plt.show()\n"
      ]
    }
  ],
  "metadata": {
    "accelerator": "GPU",
    "colab": {
      "gpuType": "T4",
      "provenance": []
    },
    "kernelspec": {
      "display_name": "Python 3",
      "language": "python",
      "name": "python3"
    },
    "language_info": {
      "codemirror_mode": {
        "name": "ipython",
        "version": 3
      },
      "file_extension": ".py",
      "mimetype": "text/x-python",
      "name": "python",
      "nbconvert_exporter": "python",
      "pygments_lexer": "ipython3",
      "version": "3.10.10"
    }
  },
  "nbformat": 4,
  "nbformat_minor": 0
}